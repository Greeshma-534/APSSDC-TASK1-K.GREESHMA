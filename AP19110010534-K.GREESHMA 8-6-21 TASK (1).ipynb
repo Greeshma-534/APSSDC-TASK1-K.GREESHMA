{
 "cells": [
  {
   "cell_type": "code",
   "execution_count": null,
   "metadata": {},
   "outputs": [],
   "source": [
    "# Write a program to check if the user is elgible to vote or not."
   ]
  },
  {
   "cell_type": "code",
   "execution_count": 1,
   "metadata": {
    "scrolled": false
   },
   "outputs": [
    {
     "name": "stdout",
     "output_type": "stream",
     "text": [
      "Enter age :12\n",
      "Not eligible for Voting\n"
     ]
    }
   ],
   "source": [
    "age=int(input(\"Enter age :\"))\n",
    "\n",
    "if age>=18:\n",
    "    print(\"Eligible for Voting\")\n",
    "else:\n",
    "    print(\"Not eligible for Voting\")\n",
    "    "
   ]
  },
  {
   "cell_type": "code",
   "execution_count": 7,
   "metadata": {},
   "outputs": [
    {
     "name": "stdout",
     "output_type": "stream",
     "text": [
      "Enter age :19\n",
      "Eligible for Voting\n"
     ]
    }
   ],
   "source": [
    "age=int(input(\"Enter age :\"))\n",
    "\n",
    "if age>=18:\n",
    "    print(\"Eligible for Voting\")\n",
    "else:\n",
    "    print(\"Not eligible for Voting\")\n",
    "    "
   ]
  },
  {
   "cell_type": "code",
   "execution_count": null,
   "metadata": {},
   "outputs": [],
   "source": [
    "#Write a program  to check if the given number is positive or not"
   ]
  },
  {
   "cell_type": "code",
   "execution_count": 1,
   "metadata": {},
   "outputs": [
    {
     "name": "stdout",
     "output_type": "stream",
     "text": [
      "Enter the number:23\n",
      "The number is positive\n"
     ]
    }
   ],
   "source": [
    "num= float(input(\"Enter the number:\"))\n",
    "\n",
    "if num<0:\n",
    "    print(\"The number is negative\")\n",
    "elif num==0:\n",
    "    print(\"The number is 0\")\n",
    "else:\n",
    "    print(\"The number is positive\")"
   ]
  },
  {
   "cell_type": "code",
   "execution_count": 8,
   "metadata": {},
   "outputs": [
    {
     "name": "stdout",
     "output_type": "stream",
     "text": [
      "Enter the number:-34\n",
      "The number is negative\n"
     ]
    }
   ],
   "source": [
    "num= float(input(\"Enter the number:\"))\n",
    "\n",
    "if num<0:\n",
    "    print(\"The number is negative\")\n",
    "elif num==0:\n",
    "    print(\"The number is 0\")\n",
    "else:\n",
    "    print(\"The number is positive\")"
   ]
  },
  {
   "cell_type": "code",
   "execution_count": null,
   "metadata": {},
   "outputs": [],
   "source": [
    "#Check the given number is odd or even, if it's even then check if it is also divisible by 4 or not"
   ]
  },
  {
   "cell_type": "code",
   "execution_count": 1,
   "metadata": {},
   "outputs": [
    {
     "name": "stdout",
     "output_type": "stream",
     "text": [
      "Enter Number: 3\n",
      "The given number is odd\n"
     ]
    }
   ],
   "source": [
    "n = int(input(\"Enter Number: \"))\n",
    "\n",
    "if n%2 == 0 :\n",
    "    print(\"The given number is even\")\n",
    "    if n% 4 == 0:\n",
    "        print(\"The given number is even and divisible by 4\")\n",
    "    else:\n",
    "        print(\"The given number is even and not divisible by 4\")\n",
    "else:\n",
    "    print(\"The given number is odd\")"
   ]
  },
  {
   "cell_type": "code",
   "execution_count": 2,
   "metadata": {},
   "outputs": [
    {
     "name": "stdout",
     "output_type": "stream",
     "text": [
      "Enter Number: 6\n",
      "The given number is even\n",
      "The given number is even and not divisible by 4\n"
     ]
    }
   ],
   "source": [
    "n = int(input(\"Enter Number: \"))\n",
    "\n",
    "if n%2 == 0 :\n",
    "    print(\"The given number is even\")\n",
    "    if n% 4 == 0:\n",
    "        print(\"The given number is even and divisible by 4\")\n",
    "    else:\n",
    "        print(\"The given number is even and not divisible by 4\")\n",
    "else:\n",
    "    print(\"The given number is odd\")"
   ]
  },
  {
   "cell_type": "code",
   "execution_count": 3,
   "metadata": {},
   "outputs": [
    {
     "name": "stdout",
     "output_type": "stream",
     "text": [
      "Enter Number: 8\n",
      "The given number is even\n",
      "The given number is even and divisible by 4\n"
     ]
    }
   ],
   "source": [
    "n = int(input(\"Enter Number: \"))\n",
    "\n",
    "if n%2 == 0 :\n",
    "    print(\"The given number is even\")\n",
    "    if n% 4 == 0:\n",
    "        print(\"The given number is even and divisible by 4\")\n",
    "    else:\n",
    "        print(\"The given number is even and not divisible by 4\")\n",
    "else:\n",
    "    print(\"The given number is odd\")"
   ]
  },
  {
   "cell_type": "code",
   "execution_count": null,
   "metadata": {},
   "outputs": [],
   "source": [
    "#write a program to print student grade based on percentage"
   ]
  },
  {
   "cell_type": "code",
   "execution_count": 4,
   "metadata": {},
   "outputs": [
    {
     "name": "stdout",
     "output_type": "stream",
     "text": [
      "Enter no.of Subjects: 3\n",
      "Enter marks of 3 Subjects\n",
      "Enter Marks of the subjects 80\n",
      "Enter Marks of the subjects 100\n",
      "Enter Marks of the subjects 77\n",
      "The Percentage of all subjects is : 85.66666666666667\n",
      "Passed\n"
     ]
    }
   ],
   "source": [
    "n = int(input(\"Enter no.of Subjects: \"))\n",
    "sum = 0\n",
    "i = 0\n",
    "per = 0\n",
    "print(\"Enter marks of {}\".format(n) + \" Subjects\")\n",
    "for i in range (1, n+1):\n",
    "    marks = int(input(\"Enter Marks of the subjects \"))\n",
    "    sum = sum + marks\n",
    "per = sum*100/(n*100)\n",
    "print(\"The Percentage of all subjects is :\", per)\n",
    "if(per>=90):\n",
    "    print(\"distinction pass\")\n",
    "elif(per>=50):\n",
    "    print(\"Passed\")\n",
    "else:\n",
    "    print(\"Fail\")"
   ]
  },
  {
   "cell_type": "code",
   "execution_count": null,
   "metadata": {},
   "outputs": [],
   "source": [
    "#check the given year is leap year or not"
   ]
  },
  {
   "cell_type": "code",
   "execution_count": 5,
   "metadata": {},
   "outputs": [
    {
     "name": "stdout",
     "output_type": "stream",
     "text": [
      "Enter a year: 2002\n",
      "The given year is not a leap year\n"
     ]
    }
   ],
   "source": [
    "a = int(input(\"Enter a year: \"))\n",
    "if(a % 4) == 0:\n",
    "    if(a % 100) == 0:\n",
    "        if(a % 400) == 0:\n",
    "            print(\"The given year is a leap year\")\n",
    "        else:\n",
    "            print(\"The given year is not a leap year\")\n",
    "    else:\n",
    "        print(\"The given year is a leap year\")\n",
    "else:\n",
    "    print(\"The given year is not a leap year\")"
   ]
  },
  {
   "cell_type": "code",
   "execution_count": 6,
   "metadata": {},
   "outputs": [
    {
     "name": "stdout",
     "output_type": "stream",
     "text": [
      "Enter a year: 2020\n",
      "The given year is a leap year\n"
     ]
    }
   ],
   "source": [
    "a = int(input(\"Enter a year: \"))\n",
    "if(a % 4) == 0:\n",
    "    if(a % 100) == 0:\n",
    "        if(a % 400) == 0:\n",
    "            print(\"The given year is a leap year\")\n",
    "        else:\n",
    "            print(\"The given year is not a leap year\")\n",
    "    else:\n",
    "        print(\"The given year is a leap year\")\n",
    "else:\n",
    "    print(\"The given year is not a leap year\")"
   ]
  },
  {
   "cell_type": "code",
   "execution_count": null,
   "metadata": {},
   "outputs": [],
   "source": []
  }
 ],
 "metadata": {
  "kernelspec": {
   "display_name": "Python 3",
   "language": "python",
   "name": "python3"
  },
  "language_info": {
   "codemirror_mode": {
    "name": "ipython",
    "version": 3
   },
   "file_extension": ".py",
   "mimetype": "text/x-python",
   "name": "python",
   "nbconvert_exporter": "python",
   "pygments_lexer": "ipython3",
   "version": "3.7.4"
  }
 },
 "nbformat": 4,
 "nbformat_minor": 2
}
